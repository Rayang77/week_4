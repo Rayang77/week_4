{
 "cells": [
  {
   "cell_type": "code",
   "execution_count": 1,
   "metadata": {},
   "outputs": [],
   "source": [
    "og_list = [2,4,6,8,10,12,14]"
   ]
  },
  {
   "cell_type": "code",
   "execution_count": 10,
   "metadata": {},
   "outputs": [
    {
     "name": "stdout",
     "output_type": "stream",
     "text": [
      "[4, 16, 36, 64, 100, 144, 196]\n"
     ]
    }
   ],
   "source": [
    "new_list = [i**2 for i in og_list]\n",
    "print(new_list)"
   ]
  },
  {
   "cell_type": "code",
   "execution_count": 5,
   "metadata": {},
   "outputs": [
    {
     "name": "stdout",
     "output_type": "stream",
     "text": [
      "[4, 16, 36, 64, 100, 144, 196]\n"
     ]
    }
   ],
   "source": [
    "new_list = [i**2 for i in range(2,15,2)]\n",
    "print(new_list)"
   ]
  },
  {
   "cell_type": "code",
   "execution_count": 14,
   "metadata": {},
   "outputs": [
    {
     "name": "stdout",
     "output_type": "stream",
     "text": [
      "1.4142135623730951\n",
      "2.0\n",
      "2.449489742783178\n",
      "2.8284271247461903\n",
      "3.1622776601683795\n",
      "3.4641016151377544\n",
      "3.7416573867739413\n",
      "[1.4142135623730951, 2.0, 2.449489742783178, 2.8284271247461903, 3.1622776601683795, 3.4641016151377544, 3.7416573867739413]\n"
     ]
    }
   ],
   "source": [
    "import math\n",
    "for thing in og_list:\n",
    "    print(math.sqrt(thing))\n",
    "    \n",
    "sqrt_list = [math.sqrt(thing) for thing in og_list]\n",
    "print(sqrt_list)"
   ]
  },
  {
   "cell_type": "code",
   "execution_count": 4,
   "metadata": {},
   "outputs": [
    {
     "name": "stdout",
     "output_type": "stream",
     "text": [
      "2\n",
      "4\n",
      "6\n",
      "8\n",
      "10\n",
      "12\n",
      "14\n"
     ]
    }
   ],
   "source": [
    "for i in range(2,15,2):\n",
    "    print(i)"
   ]
  },
  {
   "cell_type": "markdown",
   "metadata": {},
   "source": [
    "Problem 2\n",
    "og_list = [2,4,6,8,10,12,14]\n",
    "\n",
    "(option 1)\n",
    "each value = 2/3\n",
    "2*(1/3), 4*(1/6) , 6*(1/9), 8*(1/12)\n",
    "\n",
    "\n",
    "(option 2)\n",
    "each value * 2/3"
   ]
  },
  {
   "cell_type": "code",
   "execution_count": 20,
   "metadata": {},
   "outputs": [
    {
     "name": "stdout",
     "output_type": "stream",
     "text": [
      "[0.6666666666666666, 0.6666666666666666, 0.6666666666666666, 0.6666666666666666, 0.6666666666666666, 0.6666666666666666, 0.6666666666666666]\n"
     ]
    }
   ],
   "source": [
    "new_list = [2*i*(1/(3*i)) for i in og_list]\n",
    "print(new_list)"
   ]
  },
  {
   "cell_type": "code",
   "execution_count": 21,
   "metadata": {},
   "outputs": [
    {
     "name": "stdout",
     "output_type": "stream",
     "text": [
      "[0.6666666666666666, 0.6666666666666666, 0.6666666666666666, 0.6666666666666666, 0.6666666666666666, 0.6666666666666666, 0.6666666666666666]\n"
     ]
    }
   ],
   "source": [
    "new_list = [2/3 for i in og_list]\n",
    "print(new_list)"
   ]
  },
  {
   "cell_type": "code",
   "execution_count": 23,
   "metadata": {},
   "outputs": [
    {
     "name": "stdout",
     "output_type": "stream",
     "text": [
      "[1.3333333333333333, 2.6666666666666665, 4.0, 5.333333333333333, 6.666666666666666, 8.0, 9.333333333333332]\n"
     ]
    }
   ],
   "source": [
    "new_list = [(2/3)*i for i in og_list]\n",
    "print(new_list)"
   ]
  },
  {
   "cell_type": "code",
   "execution_count": 24,
   "metadata": {},
   "outputs": [],
   "source": [
    "fruit_dict = {\"Apples\":1500, \"Cranberries\":2000, \"Pears\": 2500, \"Cherries\":1600, \"Plums\":2400, \"Peaches\":13600, \"Oranges\":7}"
   ]
  },
  {
   "cell_type": "code",
   "execution_count": 25,
   "metadata": {},
   "outputs": [
    {
     "data": {
      "text/plain": [
       "'apples'"
      ]
     },
     "execution_count": 25,
     "metadata": {},
     "output_type": "execute_result"
    }
   ],
   "source": [
    "\"Apples\".lower()"
   ]
  },
  {
   "cell_type": "code",
   "execution_count": 34,
   "metadata": {},
   "outputs": [
    {
     "name": "stdout",
     "output_type": "stream",
     "text": [
      "apples\n",
      "cranberries\n",
      "pears\n",
      "cherries\n",
      "plums\n",
      "peaches\n",
      "oranges\n"
     ]
    }
   ],
   "source": [
    "for key in fruit_dict.keys():\n",
    "    print(key.lower())"
   ]
  },
  {
   "cell_type": "code",
   "execution_count": 36,
   "metadata": {},
   "outputs": [
    {
     "name": "stdout",
     "output_type": "stream",
     "text": [
      "{'apples': 1500, 'cranberries': 2000, 'pears': 2500, 'cherries': 1600, 'plums': 2400, 'peaches': 13600, 'oranges': 7}\n"
     ]
    }
   ],
   "source": [
    "new_dict = dict((key.lower(),value) for key, value in fruit_dict.items())\n",
    "print(new_dict)"
   ]
  },
  {
   "cell_type": "code",
   "execution_count": 37,
   "metadata": {},
   "outputs": [
    {
     "name": "stdout",
     "output_type": "stream",
     "text": [
      "{'apples': 1500, 'cranberries': 2000, 'pears': 2500, 'cherries': 1600, 'plums': 2400, 'peaches': 13600, 'oranges': 7}\n"
     ]
    }
   ],
   "source": [
    "new_dict = {key.lower():value for key, value in fruit_dict.items()}\n",
    "print(new_dict)"
   ]
  },
  {
   "cell_type": "code",
   "execution_count": null,
   "metadata": {},
   "outputs": [],
   "source": [
    "dict((key, value) .... )\n",
    "{key: value, key: value, key:value}"
   ]
  },
  {
   "cell_type": "code",
   "execution_count": 38,
   "metadata": {},
   "outputs": [
    {
     "data": {
      "text/plain": [
       "dict_keys(['Apples', 'Cranberries', 'Pears', 'Cherries', 'Plums', 'Peaches', 'Oranges'])"
      ]
     },
     "execution_count": 38,
     "metadata": {},
     "output_type": "execute_result"
    }
   ],
   "source": [
    "fruit_dict.keys()"
   ]
  },
  {
   "cell_type": "code",
   "execution_count": null,
   "metadata": {},
   "outputs": [],
   "source": []
  }
 ],
 "metadata": {
  "kernelspec": {
   "display_name": "Python 3",
   "language": "python",
   "name": "python3"
  },
  "language_info": {
   "codemirror_mode": {
    "name": "ipython",
    "version": 3
   },
   "file_extension": ".py",
   "mimetype": "text/x-python",
   "name": "python",
   "nbconvert_exporter": "python",
   "pygments_lexer": "ipython3",
   "version": "3.8.5"
  }
 },
 "nbformat": 4,
 "nbformat_minor": 4
}
